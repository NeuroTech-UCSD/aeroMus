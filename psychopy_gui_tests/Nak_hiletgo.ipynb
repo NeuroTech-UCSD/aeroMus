{
 "cells": [
  {
   "cell_type": "code",
   "execution_count": null,
   "metadata": {},
   "outputs": [],
   "source": [
    "import pyautogui\n",
    "import math\n",
    "\n",
    "# Define a function to map the accelerometer data to screen coordinates\n",
    "def map_to_screen(x, y, z):\n",
    "    # Convert 3D coordinates to 2D using some form of projection\n",
    "    # In this case, we're just ignoring the z-axis, but you may want to do something more sophisticated\n",
    "    screen_x = x\n",
    "    screen_y = y\n",
    "\n",
    "    # Scale the values to the screen size\n",
    "    # This assumes accelerometer data is in the range -1.0 to 1.0, which might not be the case\n",
    "    screen_x = (screen_x + 1.0) / 2.0 * pyautogui.size()[0]\n",
    "    screen_y = (screen_y + 1.0) / 2.0 * pyautogui.size()[1]\n",
    "\n",
    "    return screen_x, screen_y\n",
    "\n",
    "# Assuming data is a list of 9 values from the IMU\n",
    "# This would be replaced with your actual data reading code\n",
    "data = [0.0] * 9\n",
    "\n",
    "# Extract the accelerometer data\n",
    "accel_x, accel_y, accel_z = data[:3]\n",
    "\n",
    "# Map to screen coordinates\n",
    "screen_x, screen_y = map_to_screen(accel_x, accel_y, accel_z)\n",
    "\n",
    "# Move the mouse\n",
    "pyautogui.moveTo(screen_x, screen_y)"
   ]
  }
 ],
 "metadata": {
  "language_info": {
   "name": "python"
  },
  "orig_nbformat": 4
 },
 "nbformat": 4,
 "nbformat_minor": 2
}
