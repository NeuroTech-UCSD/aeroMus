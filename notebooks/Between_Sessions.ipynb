{
 "cells": [
  {
   "cell_type": "code",
   "execution_count": 42,
   "id": "624558d7-6d91-4a89-98ce-1d2b41d6c93b",
   "metadata": {},
   "outputs": [],
   "source": [
    "import sys\n",
    "sys.path.append('../')\n",
    "from utils.process_data_online import *"
   ]
  },
  {
   "cell_type": "code",
   "execution_count": 43,
   "id": "9df13aae-9dc9-4d4f-b280-e7198ee0bcdf",
   "metadata": {},
   "outputs": [],
   "source": [
    "from utils.features import *"
   ]
  },
  {
   "cell_type": "code",
   "execution_count": 44,
   "id": "3edafc20-1838-4d1e-aac9-b34c252dfea1",
   "metadata": {},
   "outputs": [],
   "source": [
    "def chunks_from_files(data, metadata):\n",
    "    sess_data = pd.read_csv(data,header=None)\n",
    "    sess_metadata = pd.read_csv(metadata, names=['start_time','category'])\n",
    "    category_instances = {}\n",
    "    for i, row in sess_metadata.iterrows():\n",
    "        start_time = row['start_time']\n",
    "        category = row['category'].strip()\n",
    "        end_time = sess_metadata.iloc[i + 1]['start_time'] if i < (len(sess_metadata) - 1) else sess_data.iloc[-1][0]\n",
    "        channels = sess_data.loc[(sess_data[0] >= start_time) & (sess_data[0] < end_time)]\n",
    "        instance = np.array(channels)\n",
    "        if category not in category_instances:\n",
    "            category_instances[category] = []\n",
    "        category_instances[category].append(instance)\n",
    "    return category_instances"
   ]
  },
  {
   "cell_type": "code",
   "execution_count": 70,
   "id": "54272a78-9567-4f31-a3ff-d4cec6172b19",
   "metadata": {},
   "outputs": [],
   "source": [
    "data_dir = '../data/emg_recordings/'\n",
    "num = 11\n",
    "sess = data_dir + f'test_sess{num}_data.txt'#.format{num}\n",
    "sess_md = data_dir + f'test_sess{num}_metadata.txt'#.format{num}\n",
    "chunk_dict = chunks_from_files(sess, sess_md)"
   ]
  },
  {
   "cell_type": "code",
   "execution_count": 71,
   "id": "12f6bd62-12af-4feb-88ee-fc30ac9380d8",
   "metadata": {},
   "outputs": [
    {
     "data": {
      "text/plain": [
       "dict_keys(['REST', 'CLENCH FIST', 'SNAP'])"
      ]
     },
     "execution_count": 71,
     "metadata": {},
     "output_type": "execute_result"
    }
   ],
   "source": [
    "chunk_dict.keys()"
   ]
  },
  {
   "cell_type": "code",
   "execution_count": 72,
   "id": "8c0535e3-e181-407c-9ab4-5b334e01eaf8",
   "metadata": {},
   "outputs": [],
   "source": [
    "def compute_peaks(dict_key):\n",
    "    peaks_list = []\n",
    "    for chunk in chunk_dict[dict_key]:\n",
    "        peaks = find_peaks(process_chunk(chunk))\n",
    "        #print(peaks)\n",
    "        peaks_list.append(peaks)\n",
    "    overall_peaks = np.mean(np.array(peaks_list),axis=0)\n",
    "    return overall_peaks"
   ]
  },
  {
   "cell_type": "code",
   "execution_count": 73,
   "id": "2168acb3-db17-4123-84ac-aed747f2a5b7",
   "metadata": {},
   "outputs": [],
   "source": [
    "def compute_mav(dict_key):\n",
    "    mav_list = []\n",
    "    for chunk in chunk_dict[dict_key]:\n",
    "        pro_chunk = process_chunk(chunk)\n",
    "        mav_metric = np.mean([mean_absolute_value(pro_chunk[:,i]) for i in range(pro_chunk.shape[1])])\n",
    "        mav_list.append(mav_metric)\n",
    "    overall_mav = np.mean(mav_list)\n",
    "    return overall_mav"
   ]
  },
  {
   "cell_type": "code",
   "execution_count": 74,
   "id": "d067b362-0cac-4c6d-9bfe-c9560396a901",
   "metadata": {},
   "outputs": [
    {
     "name": "stdout",
     "output_type": "stream",
     "text": [
      "[15.19241445 14.49898323 70.37132661 15.23202066]\n",
      "[ 52.73409201  50.40193812 115.21787482  52.81844991]\n",
      "[ 39.93893263  38.22642965 116.70408011  40.0662836 ]\n"
     ]
    }
   ],
   "source": [
    "print(compute_peaks('REST'))\n",
    "print(compute_peaks('SNAP'))\n",
    "print(compute_peaks('CLENCH FIST'))"
   ]
  },
  {
   "cell_type": "code",
   "execution_count": 75,
   "id": "315287a1-c0ad-4ea1-bd91-f3847f817257",
   "metadata": {},
   "outputs": [
    {
     "name": "stdout",
     "output_type": "stream",
     "text": [
      "4.841181701254937\n",
      "11.193079285237314\n",
      "9.661106473560631\n"
     ]
    }
   ],
   "source": [
    "print(compute_mav('REST'))\n",
    "print(compute_mav('SNAP'))\n",
    "print(compute_mav('CLENCH FIST'))"
   ]
  },
  {
   "cell_type": "code",
   "execution_count": null,
   "id": "20595a1d-77c2-45a9-b8c4-8b9387845623",
   "metadata": {},
   "outputs": [],
   "source": []
  },
  {
   "cell_type": "code",
   "execution_count": null,
   "id": "3aae614f-bf23-4b06-ac51-5e512b28173f",
   "metadata": {},
   "outputs": [],
   "source": []
  }
 ],
 "metadata": {
  "kernelspec": {
   "display_name": "Python 3 (ipykernel)",
   "language": "python",
   "name": "python3"
  },
  "language_info": {
   "codemirror_mode": {
    "name": "ipython",
    "version": 3
   },
   "file_extension": ".py",
   "mimetype": "text/x-python",
   "name": "python",
   "nbconvert_exporter": "python",
   "pygments_lexer": "ipython3",
   "version": "3.9.7"
  }
 },
 "nbformat": 4,
 "nbformat_minor": 5
}
