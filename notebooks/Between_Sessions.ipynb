{
 "cells": [
  {
   "cell_type": "code",
   "execution_count": 4,
   "id": "624558d7-6d91-4a89-98ce-1d2b41d6c93b",
   "metadata": {},
   "outputs": [],
   "source": [
    "import sys\n",
    "sys.path.append('../')\n",
    "from utils.process_data_online import *"
   ]
  },
  {
   "cell_type": "code",
   "execution_count": 5,
   "id": "9df13aae-9dc9-4d4f-b280-e7198ee0bcdf",
   "metadata": {},
   "outputs": [],
   "source": [
    "from utils.features import *"
   ]
  },
  {
   "cell_type": "code",
   "execution_count": 22,
   "id": "3edafc20-1838-4d1e-aac9-b34c252dfea1",
   "metadata": {},
   "outputs": [],
   "source": [
    "def chunks_from_files(data, metadata):\n",
    "    sess_data = pd.read_csv(data,header=None)\n",
    "    sess_metadata = pd.read_csv(metadata, names=['start_time','category'])\n",
    "    category_instances = {}\n",
    "    for i, row in sess_metadata.iterrows():\n",
    "        start_time = row['start_time']\n",
    "        category = row['category'].strip()\n",
    "        end_time = sess_metadata.iloc[i + 1]['start_time'] if i < (len(sess_metadata) - 1) else sess_data.iloc[-1][0]\n",
    "        channels = sess_data.loc[(sess_data[0] >= start_time) & (sess_data[0] < end_time)]\n",
    "        instance = np.array(channels)\n",
    "        if category not in category_instances:\n",
    "            category_instances[category] = []\n",
    "        category_instances[category].append(instance)\n",
    "    return category_instances"
   ]
  },
  {
   "cell_type": "code",
   "execution_count": 29,
   "id": "54272a78-9567-4f31-a3ff-d4cec6172b19",
   "metadata": {},
   "outputs": [],
   "source": [
    "data_dir = '../data/emg_recordings/'\n",
    "num = 14\n",
    "sess = data_dir + f'test_sess{num}_data.txt'#.format{num}\n",
    "sess_md = data_dir + f'test_sess{num}_metadata.txt'#.format{num}\n",
    "chunk_dict = chunks_from_files(sess, sess_md)"
   ]
  },
  {
   "cell_type": "code",
   "execution_count": 30,
   "id": "12f6bd62-12af-4feb-88ee-fc30ac9380d8",
   "metadata": {},
   "outputs": [
    {
     "data": {
      "text/plain": [
       "dict_keys(['REST', 'CLENCH FIST', 'SNAP'])"
      ]
     },
     "execution_count": 30,
     "metadata": {},
     "output_type": "execute_result"
    }
   ],
   "source": [
    "chunk_dict.keys()"
   ]
  },
  {
   "cell_type": "code",
   "execution_count": 31,
   "id": "8c0535e3-e181-407c-9ab4-5b334e01eaf8",
   "metadata": {},
   "outputs": [],
   "source": [
    "def compute_peaks(dict_key):\n",
    "    peaks_list = []\n",
    "    for chunk in chunk_dict[dict_key]:\n",
    "        peaks = find_peaks(process_chunk(chunk))\n",
    "        #print(peaks)\n",
    "        peaks_list.append(peaks)\n",
    "    overall_peaks = np.mean(np.array(peaks_list),axis=0)\n",
    "    return overall_peaks"
   ]
  },
  {
   "cell_type": "code",
   "execution_count": 32,
   "id": "2168acb3-db17-4123-84ac-aed747f2a5b7",
   "metadata": {},
   "outputs": [],
   "source": [
    "def compute_mav(dict_key):\n",
    "    mav_list = []\n",
    "    for chunk in chunk_dict[dict_key]:\n",
    "        pro_chunk = process_chunk(chunk)\n",
    "        mav_metric = np.mean([mean_absolute_value(pro_chunk[:,i]) for i in range(pro_chunk.shape[1])])\n",
    "        mav_list.append(mav_metric)\n",
    "    overall_mav = np.mean(mav_list)\n",
    "    return overall_mav"
   ]
  },
  {
   "cell_type": "code",
   "execution_count": 33,
   "id": "d067b362-0cac-4c6d-9bfe-c9560396a901",
   "metadata": {},
   "outputs": [
    {
     "name": "stdout",
     "output_type": "stream",
     "text": [
      "[675.55594014 344.57202215 433.48606925 311.22265471]\n",
      "[ 687.53747448  667.69353346  484.24792408 1638.12867602]\n",
      "[521.45168877 511.75190635 464.62465744 796.07262471]\n"
     ]
    }
   ],
   "source": [
    "print(compute_peaks('REST'))\n",
    "print(compute_peaks('SNAP'))\n",
    "print(compute_peaks('CLENCH FIST'))"
   ]
  },
  {
   "cell_type": "code",
   "execution_count": 34,
   "id": "315287a1-c0ad-4ea1-bd91-f3847f817257",
   "metadata": {},
   "outputs": [
    {
     "name": "stdout",
     "output_type": "stream",
     "text": [
      "42.41815747238079\n",
      "93.43383817499735\n",
      "79.33941634895322\n"
     ]
    }
   ],
   "source": [
    "print(compute_mav('REST'))\n",
    "print(compute_mav('SNAP'))\n",
    "print(compute_mav('CLENCH FIST'))"
   ]
  },
  {
   "cell_type": "code",
   "execution_count": null,
   "id": "20595a1d-77c2-45a9-b8c4-8b9387845623",
   "metadata": {},
   "outputs": [],
   "source": []
  },
  {
   "cell_type": "code",
   "execution_count": 21,
   "id": "3aae614f-bf23-4b06-ac51-5e512b28173f",
   "metadata": {},
   "outputs": [
    {
     "name": "stdout",
     "output_type": "stream",
     "text": [
      "[1. 4.]\n"
     ]
    }
   ],
   "source": [
    "data = [[1,2],[1,4],[1,6]]\n",
    "print(np.mean(np.array(data),axis=0))"
   ]
  },
  {
   "cell_type": "code",
   "execution_count": null,
   "id": "b42c092d-58af-414e-9b4e-7e8b1cac67f9",
   "metadata": {},
   "outputs": [],
   "source": []
  }
 ],
 "metadata": {
  "kernelspec": {
   "display_name": "Python 3 (ipykernel)",
   "language": "python",
   "name": "python3"
  },
  "language_info": {
   "codemirror_mode": {
    "name": "ipython",
    "version": 3
   },
   "file_extension": ".py",
   "mimetype": "text/x-python",
   "name": "python",
   "nbconvert_exporter": "python",
   "pygments_lexer": "ipython3",
   "version": "3.9.7"
  }
 },
 "nbformat": 4,
 "nbformat_minor": 5
}
