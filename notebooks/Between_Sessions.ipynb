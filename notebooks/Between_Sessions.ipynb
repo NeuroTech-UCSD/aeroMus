{
 "cells": [
  {
   "cell_type": "code",
   "execution_count": 1,
   "id": "624558d7-6d91-4a89-98ce-1d2b41d6c93b",
   "metadata": {},
   "outputs": [],
   "source": [
    "import sys\n",
    "sys.path.append('../')\n",
    "from utils.process_data_online import *"
   ]
  },
  {
   "cell_type": "code",
   "execution_count": 23,
   "id": "9df13aae-9dc9-4d4f-b280-e7198ee0bcdf",
   "metadata": {},
   "outputs": [],
   "source": [
    "from utils.features import *"
   ]
  },
  {
   "cell_type": "code",
   "execution_count": 2,
   "id": "3edafc20-1838-4d1e-aac9-b34c252dfea1",
   "metadata": {},
   "outputs": [],
   "source": [
    "def chunks_from_files(data, metadata):\n",
    "    sess_data = pd.read_csv(data,header=None)\n",
    "    sess_metadata = pd.read_csv(metadata, names=['start_time','category'])\n",
    "    category_instances = {}\n",
    "    for i, row in sess_metadata.iterrows():\n",
    "        start_time = row['start_time']\n",
    "        category = row['category'].strip()\n",
    "        end_time = sess_metadata.iloc[i + 1]['start_time'] if i < (len(sess_metadata) - 1) else sess_data.iloc[-1][0]\n",
    "        channels = sess_data.loc[(sess_data[0] >= start_time) & (sess_data[0] < end_time)]\n",
    "        instance = np.array(channels)\n",
    "        if category not in category_instances:\n",
    "            category_instances[category] = []\n",
    "        category_instances[category].append(instance)\n",
    "    return category_instances"
   ]
  },
  {
   "cell_type": "code",
   "execution_count": 3,
   "id": "54272a78-9567-4f31-a3ff-d4cec6172b19",
   "metadata": {},
   "outputs": [],
   "source": [
    "data_dir = '../data/emg_recordings/'\n",
    "sess8 = data_dir + 'test_sess8_data.txt'\n",
    "sess8_md = data_dir + 'test_sess8_metadata.txt'\n",
    "chunk_dict = chunks_from_files(sess8, sess8_md)"
   ]
  },
  {
   "cell_type": "code",
   "execution_count": 4,
   "id": "12f6bd62-12af-4feb-88ee-fc30ac9380d8",
   "metadata": {},
   "outputs": [
    {
     "data": {
      "text/plain": [
       "dict_keys(['REST', 'SNAP', 'CLENCH FIST'])"
      ]
     },
     "execution_count": 4,
     "metadata": {},
     "output_type": "execute_result"
    }
   ],
   "source": [
    "chunk_dict.keys()"
   ]
  },
  {
   "cell_type": "code",
   "execution_count": 21,
   "id": "8c0535e3-e181-407c-9ab4-5b334e01eaf8",
   "metadata": {},
   "outputs": [],
   "source": [
    "def compute_peaks(dict_key):\n",
    "    peaks_list = []\n",
    "    for chunk in chunk_dict[dict_key]:\n",
    "        peaks = find_peaks(process_chunk(chunk))\n",
    "        #print(peaks)\n",
    "        peaks_list.append(peaks)\n",
    "    overall_peaks = np.mean(np.array(peaks_list),axis=0)\n",
    "    return overall_peaks"
   ]
  },
  {
   "cell_type": "code",
   "execution_count": 37,
   "id": "2168acb3-db17-4123-84ac-aed747f2a5b7",
   "metadata": {},
   "outputs": [],
   "source": [
    "def compute_mav(dict_key):\n",
    "    mav_list = []\n",
    "    for chunk in chunk_dict[dict_key]:\n",
    "        pro_chunk = process_chunk(chunk)\n",
    "        mav_metric = np.mean([mean_absolute_value(pro_chunk[:,i]) for i in range(pro_chunk.shape[1])])\n",
    "        mav_list.append(mav_metric)\n",
    "    overall_mav = np.mean(mav_list)\n",
    "    return overall_mav"
   ]
  },
  {
   "cell_type": "code",
   "execution_count": 38,
   "id": "d067b362-0cac-4c6d-9bfe-c9560396a901",
   "metadata": {},
   "outputs": [
    {
     "name": "stdout",
     "output_type": "stream",
     "text": [
      "[ 4.69700938 32.60445231 57.8268742  92.79905684]\n"
     ]
    }
   ],
   "source": [
    "print(compute_peaks('REST'))"
   ]
  },
  {
   "cell_type": "code",
   "execution_count": 39,
   "id": "315287a1-c0ad-4ea1-bd91-f3847f817257",
   "metadata": {},
   "outputs": [
    {
     "name": "stdout",
     "output_type": "stream",
     "text": [
      "20.097930719680406\n"
     ]
    }
   ],
   "source": [
    "print(compute_mav('REST'))"
   ]
  },
  {
   "cell_type": "code",
   "execution_count": 9,
   "id": "51124afe-bf7e-46c5-b616-b3420516b782",
   "metadata": {},
   "outputs": [
    {
     "data": {
      "text/plain": [
       "array([ 4.69700938, 32.60445231, 57.8268742 , 92.79905684])"
      ]
     },
     "execution_count": 9,
     "metadata": {},
     "output_type": "execute_result"
    }
   ],
   "source": [
    "rest_peaks = np.mean(np.array(peaks_list),axis=0)\n",
    "rest_peaks"
   ]
  },
  {
   "cell_type": "code",
   "execution_count": 11,
   "id": "9eb37fc3-f287-40dd-b528-f9f4d659c3b1",
   "metadata": {},
   "outputs": [
    {
     "name": "stdout",
     "output_type": "stream",
     "text": [
      "[  4.91861397  35.10478385  50.92212474 128.23754623]\n",
      "[  4.89433981  33.1682175   69.39005656 113.55751844]\n",
      "[ 4.68646453 26.57184879 52.58866434 75.03340508]\n",
      "[  4.56926007  34.90931478  61.03910682 107.47272661]\n",
      "[  4.56206347  33.4606176   58.1486672  106.99895931]\n",
      "[  4.68316739  36.88194163  54.01053865 106.61727544]\n",
      "[ 4.65637048 29.75731461 53.12530962 74.69304205]\n",
      "[ 4.71269782 31.16959654 67.98959028 84.38216012]\n",
      "[ 4.70253784 26.19197185 59.60189478 78.38904895]\n",
      "[ 4.72711898 30.0286388  51.01460445 81.61135603]\n"
     ]
    }
   ],
   "source": [
    "clench_list = []\n",
    "for clench_chunk in chunk_dict['CLENCH FIST']:\n",
    "    peaks = find_peaks(process_chunk(clench_chunk))\n",
    "    print(peaks)\n",
    "    clench_list.append(peaks)"
   ]
  },
  {
   "cell_type": "code",
   "execution_count": null,
   "id": "20595a1d-77c2-45a9-b8c4-8b9387845623",
   "metadata": {},
   "outputs": [],
   "source": []
  }
 ],
 "metadata": {
  "kernelspec": {
   "display_name": "Python 3 (ipykernel)",
   "language": "python",
   "name": "python3"
  },
  "language_info": {
   "codemirror_mode": {
    "name": "ipython",
    "version": 3
   },
   "file_extension": ".py",
   "mimetype": "text/x-python",
   "name": "python",
   "nbconvert_exporter": "python",
   "pygments_lexer": "ipython3",
   "version": "3.9.7"
  }
 },
 "nbformat": 4,
 "nbformat_minor": 5
}
