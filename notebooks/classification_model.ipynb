{
 "cells": [
  {
   "cell_type": "code",
   "execution_count": 7,
   "id": "64df85f3",
   "metadata": {},
   "outputs": [
    {
     "name": "stdout",
     "output_type": "stream",
     "text": [
      "Packages Imported\n"
     ]
    }
   ],
   "source": [
    "# imports\n",
    "import numpy as np\n",
    "import pandas as pd\n",
    "import sys\n",
    "import pickle\n",
    "\n",
    "sys.path.append('..')\n",
    "from utils.features import *\n",
    "from utils.signal_processing import *\n",
    "\n",
    "print(\"Packages Imported\")"
   ]
  },
  {
   "cell_type": "code",
   "execution_count": 12,
   "id": "1bbac194",
   "metadata": {},
   "outputs": [],
   "source": [
    "# settings\n",
    "data_in = '../data/emg_recordings'\n",
    "#data_in = \"C:/Users/User/Project-TNNI-ACD/data/emg_recordings\""
   ]
  },
  {
   "cell_type": "code",
   "execution_count": 13,
   "id": "8d9536cd",
   "metadata": {},
   "outputs": [],
   "source": [
    "# function to add labels from metadata to data\n",
    "\n",
    "def add_labels(df, m):\n",
    "    # first set label column to all nans\n",
    "    df['label'] = np.nan\n",
    "    # loop for each action/label\n",
    "    for i, row in m.iterrows():\n",
    "        # get start time and label\n",
    "        t = row[0]\n",
    "        cat = row[1].strip()\n",
    "        \n",
    "        # turn HOLD and STOP labels into corresponding action\n",
    "        if cat == \"HOLD\":\n",
    "            label = m[1].iloc[i-1].strip()\n",
    "        elif cat == 'STOP':\n",
    "            label = m[1].iloc[i-2].strip()\n",
    "        else:\n",
    "            label = cat\n",
    "            \n",
    "        # set all labels passed start time to correct label\n",
    "        df['label'][df[0] >= t] = label\n",
    "    return df"
   ]
  },
  {
   "cell_type": "code",
   "execution_count": 14,
   "id": "2188efe2",
   "metadata": {
    "scrolled": true
   },
   "outputs": [],
   "source": [
    "ses3 = pd.read_csv(f\"{data_in}/test_sess3_data.txt\", header=None)\n",
    "m3 = pd.read_csv(f\"{data_in}/test_sess3_metadata.txt\", header=None)\n",
    "\n",
    "df3 = add_labels(ses3, m3)"
   ]
  },
  {
   "cell_type": "code",
   "execution_count": 15,
   "id": "2265605a",
   "metadata": {},
   "outputs": [],
   "source": [
    "ses4 = pd.read_csv(f\"{data_in}/test_sess4_data.txt\", header=None)\n",
    "m4 = pd.read_csv(f\"{data_in}/test_sess4_metadata.txt\", header=None)\n",
    "\n",
    "df4 = add_labels(ses4, m4)"
   ]
  },
  {
   "cell_type": "code",
   "execution_count": 16,
   "id": "4f7e35e9",
   "metadata": {},
   "outputs": [],
   "source": [
    "ses5 = pd.read_csv(f\"{data_in}/test_sess5_data.txt\", header=None)\n",
    "m5 = pd.read_csv(f\"{data_in}/test_sess5_metadata.txt\", header=None)\n",
    "\n",
    "df5 = add_labels(ses5, m5)"
   ]
  },
  {
   "cell_type": "code",
   "execution_count": 17,
   "id": "150901b2",
   "metadata": {},
   "outputs": [],
   "source": [
    "# concatenate all sessions\n",
    "df = pd.concat([df3, df4, df5]).dropna().reset_index(drop=True)"
   ]
  },
  {
   "cell_type": "code",
   "execution_count": 18,
   "id": "39d24cb5",
   "metadata": {},
   "outputs": [
    {
     "data": {
      "text/html": [
       "<div>\n",
       "<style scoped>\n",
       "    .dataframe tbody tr th:only-of-type {\n",
       "        vertical-align: middle;\n",
       "    }\n",
       "\n",
       "    .dataframe tbody tr th {\n",
       "        vertical-align: top;\n",
       "    }\n",
       "\n",
       "    .dataframe thead th {\n",
       "        text-align: right;\n",
       "    }\n",
       "</style>\n",
       "<table border=\"1\" class=\"dataframe\">\n",
       "  <thead>\n",
       "    <tr style=\"text-align: right;\">\n",
       "      <th></th>\n",
       "      <th>0</th>\n",
       "      <th>1</th>\n",
       "      <th>2</th>\n",
       "      <th>3</th>\n",
       "      <th>4</th>\n",
       "      <th>5</th>\n",
       "      <th>6</th>\n",
       "      <th>7</th>\n",
       "      <th>8</th>\n",
       "      <th>label</th>\n",
       "    </tr>\n",
       "  </thead>\n",
       "  <tbody>\n",
       "    <tr>\n",
       "      <th>0</th>\n",
       "      <td>122155.864712</td>\n",
       "      <td>-77062.468750</td>\n",
       "      <td>-77093.445312</td>\n",
       "      <td>-73484.914062</td>\n",
       "      <td>-73730.742188</td>\n",
       "      <td>-103410.390625</td>\n",
       "      <td>-103418.390625</td>\n",
       "      <td>-173520.750000</td>\n",
       "      <td>-173397.546875</td>\n",
       "      <td>REST</td>\n",
       "    </tr>\n",
       "    <tr>\n",
       "      <th>1</th>\n",
       "      <td>122155.868712</td>\n",
       "      <td>-76983.476562</td>\n",
       "      <td>-77014.007812</td>\n",
       "      <td>-73467.031250</td>\n",
       "      <td>-73712.406250</td>\n",
       "      <td>-103027.210938</td>\n",
       "      <td>-103034.437500</td>\n",
       "      <td>-173118.437500</td>\n",
       "      <td>-172994.953125</td>\n",
       "      <td>REST</td>\n",
       "    </tr>\n",
       "    <tr>\n",
       "      <th>2</th>\n",
       "      <td>122155.872712</td>\n",
       "      <td>-76935.195312</td>\n",
       "      <td>-76965.304688</td>\n",
       "      <td>-73453.265625</td>\n",
       "      <td>-73698.507812</td>\n",
       "      <td>-102904.882812</td>\n",
       "      <td>-102912.507812</td>\n",
       "      <td>-173069.765625</td>\n",
       "      <td>-172946.484375</td>\n",
       "      <td>REST</td>\n",
       "    </tr>\n",
       "    <tr>\n",
       "      <th>3</th>\n",
       "      <td>122155.876712</td>\n",
       "      <td>-77000.687500</td>\n",
       "      <td>-77031.289062</td>\n",
       "      <td>-73466.515625</td>\n",
       "      <td>-73712.500000</td>\n",
       "      <td>-103259.335938</td>\n",
       "      <td>-103266.984375</td>\n",
       "      <td>-173449.359375</td>\n",
       "      <td>-173326.406250</td>\n",
       "      <td>REST</td>\n",
       "    </tr>\n",
       "    <tr>\n",
       "      <th>4</th>\n",
       "      <td>122155.880712</td>\n",
       "      <td>-77053.593750</td>\n",
       "      <td>-77084.703125</td>\n",
       "      <td>-73480.265625</td>\n",
       "      <td>-73726.382812</td>\n",
       "      <td>-103445.171875</td>\n",
       "      <td>-103453.062500</td>\n",
       "      <td>-173564.531250</td>\n",
       "      <td>-173441.359375</td>\n",
       "      <td>REST</td>\n",
       "    </tr>\n",
       "  </tbody>\n",
       "</table>\n",
       "</div>"
      ],
      "text/plain": [
       "               0             1             2             3             4  \\\n",
       "0  122155.864712 -77062.468750 -77093.445312 -73484.914062 -73730.742188   \n",
       "1  122155.868712 -76983.476562 -77014.007812 -73467.031250 -73712.406250   \n",
       "2  122155.872712 -76935.195312 -76965.304688 -73453.265625 -73698.507812   \n",
       "3  122155.876712 -77000.687500 -77031.289062 -73466.515625 -73712.500000   \n",
       "4  122155.880712 -77053.593750 -77084.703125 -73480.265625 -73726.382812   \n",
       "\n",
       "               5              6              7              8 label  \n",
       "0 -103410.390625 -103418.390625 -173520.750000 -173397.546875  REST  \n",
       "1 -103027.210938 -103034.437500 -173118.437500 -172994.953125  REST  \n",
       "2 -102904.882812 -102912.507812 -173069.765625 -172946.484375  REST  \n",
       "3 -103259.335938 -103266.984375 -173449.359375 -173326.406250  REST  \n",
       "4 -103445.171875 -103453.062500 -173564.531250 -173441.359375  REST  "
      ]
     },
     "execution_count": 18,
     "metadata": {},
     "output_type": "execute_result"
    }
   ],
   "source": [
    "df.head()"
   ]
  },
  {
   "cell_type": "code",
   "execution_count": 19,
   "id": "1f8d4f10",
   "metadata": {},
   "outputs": [
    {
     "data": {
      "text/plain": [
       "array(['REST', 'WRIST DOWN', 'SNAP', 'CLENCH FIST', 'WRIST UP'],\n",
       "      dtype=object)"
      ]
     },
     "execution_count": 19,
     "metadata": {},
     "output_type": "execute_result"
    }
   ],
   "source": [
    "df['label'].unique()"
   ]
  },
  {
   "cell_type": "code",
   "execution_count": 20,
   "id": "b3d0b34b",
   "metadata": {},
   "outputs": [],
   "source": [
    "# metric calculations\n",
    "\n",
    "def compute_metrics(data):\n",
    "    \n",
    "    # time domain\n",
    "    tfuncs = [mean_absolute_value, slope_sign_changes, root_mean_square]\n",
    "    \n",
    "    # freq domain\n",
    "    power, freq = to_fdomain(data, 250)\n",
    "    ffuncs = [median_frequency, mean_frequency]\n",
    "    \n",
    "    return [f(data) for f in tfuncs] # + [f(power, freq) for f in ffuncs]"
   ]
  },
  {
   "cell_type": "code",
   "execution_count": 21,
   "id": "ff6c7007",
   "metadata": {
    "scrolled": true
   },
   "outputs": [
    {
     "data": {
      "text/plain": [
       "[103.21974907407392, 23, 116.01697863878724]"
      ]
     },
     "execution_count": 21,
     "metadata": {},
     "output_type": "execute_result"
    }
   ],
   "source": [
    "## THIS CELL IS FOR TESTING COMPUTE_METRICS\n",
    "\n",
    "raw_data = df.iloc[0:50]\n",
    "\n",
    "# if the data is between rest and a motion, don't include it\n",
    "if len(raw_data['label'].unique()) > 1:\n",
    "    i += window_size\n",
    "    #continue\n",
    "\n",
    "# loop through all pairs of channels and transform, filter, and compute metrics\n",
    "all_channel_metrics = []\n",
    "for e in range(1,9,2):\n",
    "    sig = tripolar_laplacian(raw_data[e], raw_data[e+1])\n",
    "    filtered_sig = filter_emg(np.array(sig), 250)\n",
    "\n",
    "    metrics = compute_metrics(filtered_sig)\n",
    "    \n",
    "metrics"
   ]
  },
  {
   "cell_type": "code",
   "execution_count": 22,
   "id": "fe8e72cf",
   "metadata": {},
   "outputs": [],
   "source": [
    "# create features based on 0.2 seconds (50 rows) of data points\n",
    "\n",
    "window_size = 50\n",
    "i = 0\n",
    "feats = []\n",
    "# loop through 50 data points at a time\n",
    "while i + window_size < len(df):\n",
    "    # select data of interest\n",
    "    raw_data = df.iloc[i:i + window_size]\n",
    "    \n",
    "    # if the data is between rest and a motion, don't include it\n",
    "    if len(raw_data['label'].unique()) > 1:\n",
    "        i += window_size\n",
    "        continue\n",
    "\n",
    "    # loop through all pairs of channels and transform, filter, and compute metrics\n",
    "    all_channel_metrics = []\n",
    "    for e in range(1,9,2):\n",
    "        sig = tripolar_laplacian(raw_data[e], raw_data[e+1])\n",
    "        filtered_sig = filter_emg(np.array(sig), 250)\n",
    "\n",
    "        metrics = compute_metrics(filtered_sig)\n",
    "\n",
    "        all_channel_metrics.extend(metrics)\n",
    "\n",
    "    # add metrics plus label to matrix and go next\n",
    "    feats.append(all_channel_metrics + [raw_data['label'].unique()[0]])\n",
    "    i += window_size"
   ]
  },
  {
   "cell_type": "code",
   "execution_count": 23,
   "id": "e7a85957",
   "metadata": {},
   "outputs": [
    {
     "data": {
      "text/html": [
       "<div>\n",
       "<style scoped>\n",
       "    .dataframe tbody tr th:only-of-type {\n",
       "        vertical-align: middle;\n",
       "    }\n",
       "\n",
       "    .dataframe tbody tr th {\n",
       "        vertical-align: top;\n",
       "    }\n",
       "\n",
       "    .dataframe thead th {\n",
       "        text-align: right;\n",
       "    }\n",
       "</style>\n",
       "<table border=\"1\" class=\"dataframe\">\n",
       "  <thead>\n",
       "    <tr style=\"text-align: right;\">\n",
       "      <th></th>\n",
       "      <th>0</th>\n",
       "      <th>1</th>\n",
       "      <th>2</th>\n",
       "      <th>3</th>\n",
       "      <th>4</th>\n",
       "      <th>5</th>\n",
       "      <th>6</th>\n",
       "      <th>7</th>\n",
       "      <th>8</th>\n",
       "      <th>9</th>\n",
       "      <th>10</th>\n",
       "      <th>11</th>\n",
       "      <th>12</th>\n",
       "    </tr>\n",
       "  </thead>\n",
       "  <tbody>\n",
       "    <tr>\n",
       "      <th>0</th>\n",
       "      <td>23.054868</td>\n",
       "      <td>23</td>\n",
       "      <td>26.879249</td>\n",
       "      <td>5.092542</td>\n",
       "      <td>23</td>\n",
       "      <td>5.949945</td>\n",
       "      <td>100.545968</td>\n",
       "      <td>23</td>\n",
       "      <td>112.540689</td>\n",
       "      <td>103.219749</td>\n",
       "      <td>23</td>\n",
       "      <td>116.016979</td>\n",
       "      <td>REST</td>\n",
       "    </tr>\n",
       "    <tr>\n",
       "      <th>1</th>\n",
       "      <td>20.062343</td>\n",
       "      <td>23</td>\n",
       "      <td>22.540444</td>\n",
       "      <td>6.796910</td>\n",
       "      <td>23</td>\n",
       "      <td>8.351373</td>\n",
       "      <td>97.515596</td>\n",
       "      <td>23</td>\n",
       "      <td>109.450591</td>\n",
       "      <td>100.765259</td>\n",
       "      <td>23</td>\n",
       "      <td>113.423511</td>\n",
       "      <td>REST</td>\n",
       "    </tr>\n",
       "    <tr>\n",
       "      <th>2</th>\n",
       "      <td>15.540885</td>\n",
       "      <td>23</td>\n",
       "      <td>17.822811</td>\n",
       "      <td>3.516999</td>\n",
       "      <td>23</td>\n",
       "      <td>4.172749</td>\n",
       "      <td>90.467274</td>\n",
       "      <td>23</td>\n",
       "      <td>101.667903</td>\n",
       "      <td>94.108229</td>\n",
       "      <td>23</td>\n",
       "      <td>106.311052</td>\n",
       "      <td>REST</td>\n",
       "    </tr>\n",
       "    <tr>\n",
       "      <th>3</th>\n",
       "      <td>12.998037</td>\n",
       "      <td>24</td>\n",
       "      <td>14.932618</td>\n",
       "      <td>5.141250</td>\n",
       "      <td>23</td>\n",
       "      <td>6.221360</td>\n",
       "      <td>68.654617</td>\n",
       "      <td>23</td>\n",
       "      <td>76.694255</td>\n",
       "      <td>73.497742</td>\n",
       "      <td>23</td>\n",
       "      <td>82.659126</td>\n",
       "      <td>REST</td>\n",
       "    </tr>\n",
       "    <tr>\n",
       "      <th>4</th>\n",
       "      <td>13.582772</td>\n",
       "      <td>24</td>\n",
       "      <td>15.559570</td>\n",
       "      <td>10.066973</td>\n",
       "      <td>23</td>\n",
       "      <td>11.405492</td>\n",
       "      <td>65.496634</td>\n",
       "      <td>23</td>\n",
       "      <td>73.336346</td>\n",
       "      <td>70.924455</td>\n",
       "      <td>23</td>\n",
       "      <td>79.760386</td>\n",
       "      <td>REST</td>\n",
       "    </tr>\n",
       "    <tr>\n",
       "      <th>...</th>\n",
       "      <td>...</td>\n",
       "      <td>...</td>\n",
       "      <td>...</td>\n",
       "      <td>...</td>\n",
       "      <td>...</td>\n",
       "      <td>...</td>\n",
       "      <td>...</td>\n",
       "      <td>...</td>\n",
       "      <td>...</td>\n",
       "      <td>...</td>\n",
       "      <td>...</td>\n",
       "      <td>...</td>\n",
       "      <td>...</td>\n",
       "    </tr>\n",
       "    <tr>\n",
       "      <th>1403</th>\n",
       "      <td>1212.371725</td>\n",
       "      <td>23</td>\n",
       "      <td>1342.899112</td>\n",
       "      <td>18.340115</td>\n",
       "      <td>23</td>\n",
       "      <td>20.513414</td>\n",
       "      <td>1010.647343</td>\n",
       "      <td>23</td>\n",
       "      <td>1123.103268</td>\n",
       "      <td>559.697951</td>\n",
       "      <td>23</td>\n",
       "      <td>625.203057</td>\n",
       "      <td>CLENCH FIST</td>\n",
       "    </tr>\n",
       "    <tr>\n",
       "      <th>1404</th>\n",
       "      <td>1208.833108</td>\n",
       "      <td>23</td>\n",
       "      <td>1340.400620</td>\n",
       "      <td>18.367587</td>\n",
       "      <td>23</td>\n",
       "      <td>21.286912</td>\n",
       "      <td>1009.983750</td>\n",
       "      <td>23</td>\n",
       "      <td>1124.214785</td>\n",
       "      <td>557.586899</td>\n",
       "      <td>23</td>\n",
       "      <td>621.912292</td>\n",
       "      <td>CLENCH FIST</td>\n",
       "    </tr>\n",
       "    <tr>\n",
       "      <th>1405</th>\n",
       "      <td>1208.159727</td>\n",
       "      <td>23</td>\n",
       "      <td>1339.882094</td>\n",
       "      <td>18.461581</td>\n",
       "      <td>23</td>\n",
       "      <td>21.112132</td>\n",
       "      <td>1009.411446</td>\n",
       "      <td>23</td>\n",
       "      <td>1123.136257</td>\n",
       "      <td>558.443133</td>\n",
       "      <td>23</td>\n",
       "      <td>622.274518</td>\n",
       "      <td>CLENCH FIST</td>\n",
       "    </tr>\n",
       "    <tr>\n",
       "      <th>1406</th>\n",
       "      <td>1222.780625</td>\n",
       "      <td>23</td>\n",
       "      <td>1356.351442</td>\n",
       "      <td>17.943304</td>\n",
       "      <td>24</td>\n",
       "      <td>19.967945</td>\n",
       "      <td>1028.985873</td>\n",
       "      <td>24</td>\n",
       "      <td>1134.201384</td>\n",
       "      <td>561.552460</td>\n",
       "      <td>24</td>\n",
       "      <td>623.135654</td>\n",
       "      <td>CLENCH FIST</td>\n",
       "    </tr>\n",
       "    <tr>\n",
       "      <th>1407</th>\n",
       "      <td>1203.649198</td>\n",
       "      <td>23</td>\n",
       "      <td>1338.914044</td>\n",
       "      <td>17.818070</td>\n",
       "      <td>23</td>\n",
       "      <td>19.841563</td>\n",
       "      <td>1014.225799</td>\n",
       "      <td>23</td>\n",
       "      <td>1126.158072</td>\n",
       "      <td>555.397980</td>\n",
       "      <td>23</td>\n",
       "      <td>619.056827</td>\n",
       "      <td>CLENCH FIST</td>\n",
       "    </tr>\n",
       "  </tbody>\n",
       "</table>\n",
       "<p>1408 rows × 13 columns</p>\n",
       "</div>"
      ],
      "text/plain": [
       "               0   1            2          3   4          5            6   7   \\\n",
       "0       23.054868  23    26.879249   5.092542  23   5.949945   100.545968  23   \n",
       "1       20.062343  23    22.540444   6.796910  23   8.351373    97.515596  23   \n",
       "2       15.540885  23    17.822811   3.516999  23   4.172749    90.467274  23   \n",
       "3       12.998037  24    14.932618   5.141250  23   6.221360    68.654617  23   \n",
       "4       13.582772  24    15.559570  10.066973  23  11.405492    65.496634  23   \n",
       "...           ...  ..          ...        ...  ..        ...          ...  ..   \n",
       "1403  1212.371725  23  1342.899112  18.340115  23  20.513414  1010.647343  23   \n",
       "1404  1208.833108  23  1340.400620  18.367587  23  21.286912  1009.983750  23   \n",
       "1405  1208.159727  23  1339.882094  18.461581  23  21.112132  1009.411446  23   \n",
       "1406  1222.780625  23  1356.351442  17.943304  24  19.967945  1028.985873  24   \n",
       "1407  1203.649198  23  1338.914044  17.818070  23  19.841563  1014.225799  23   \n",
       "\n",
       "               8           9   10          11           12  \n",
       "0      112.540689  103.219749  23  116.016979         REST  \n",
       "1      109.450591  100.765259  23  113.423511         REST  \n",
       "2      101.667903   94.108229  23  106.311052         REST  \n",
       "3       76.694255   73.497742  23   82.659126         REST  \n",
       "4       73.336346   70.924455  23   79.760386         REST  \n",
       "...           ...         ...  ..         ...          ...  \n",
       "1403  1123.103268  559.697951  23  625.203057  CLENCH FIST  \n",
       "1404  1124.214785  557.586899  23  621.912292  CLENCH FIST  \n",
       "1405  1123.136257  558.443133  23  622.274518  CLENCH FIST  \n",
       "1406  1134.201384  561.552460  24  623.135654  CLENCH FIST  \n",
       "1407  1126.158072  555.397980  23  619.056827  CLENCH FIST  \n",
       "\n",
       "[1408 rows x 13 columns]"
      ]
     },
     "execution_count": 23,
     "metadata": {},
     "output_type": "execute_result"
    }
   ],
   "source": [
    "feature_df = pd.DataFrame(feats)\n",
    "feature_df"
   ]
  },
  {
   "cell_type": "code",
   "execution_count": 24,
   "id": "209827bf",
   "metadata": {},
   "outputs": [
    {
     "data": {
      "text/plain": [
       "REST           548\n",
       "WRIST DOWN     218\n",
       "CLENCH FIST    215\n",
       "WRIST UP       214\n",
       "SNAP           213\n",
       "Name: 12, dtype: int64"
      ]
     },
     "execution_count": 24,
     "metadata": {},
     "output_type": "execute_result"
    }
   ],
   "source": [
    "feature_df[feature_df.columns[-1]].value_counts()"
   ]
  },
  {
   "cell_type": "code",
   "execution_count": 25,
   "id": "ff73ca8c",
   "metadata": {},
   "outputs": [],
   "source": [
    "# now machine learning"
   ]
  },
  {
   "cell_type": "code",
   "execution_count": 26,
   "id": "85e8634e",
   "metadata": {},
   "outputs": [],
   "source": [
    "# imports\n",
    "from sklearn.model_selection import train_test_split\n",
    "from sklearn.svm import SVC\n",
    "from sklearn.metrics import accuracy_score\n",
    "from sklearn.model_selection import GridSearchCV\n",
    "from sklearn.pipeline import Pipeline\n",
    "from sklearn.compose import ColumnTransformer\n",
    "from sklearn.preprocessing import StandardScaler"
   ]
  },
  {
   "cell_type": "code",
   "execution_count": 27,
   "id": "99c403a0",
   "metadata": {},
   "outputs": [],
   "source": [
    "X = feature_df.copy()\n",
    "y = X.pop(feature_df.columns[-1])"
   ]
  },
  {
   "cell_type": "code",
   "execution_count": 28,
   "id": "ea0330a1",
   "metadata": {},
   "outputs": [],
   "source": [
    "X_train, X_test, y_train, y_test = train_test_split(X, y, random_state=100)"
   ]
  },
  {
   "cell_type": "code",
   "execution_count": 29,
   "id": "9adbf41d",
   "metadata": {},
   "outputs": [
    {
     "data": {
      "text/html": [
       "<style>#sk-container-id-1 {color: black;background-color: white;}#sk-container-id-1 pre{padding: 0;}#sk-container-id-1 div.sk-toggleable {background-color: white;}#sk-container-id-1 label.sk-toggleable__label {cursor: pointer;display: block;width: 100%;margin-bottom: 0;padding: 0.3em;box-sizing: border-box;text-align: center;}#sk-container-id-1 label.sk-toggleable__label-arrow:before {content: \"▸\";float: left;margin-right: 0.25em;color: #696969;}#sk-container-id-1 label.sk-toggleable__label-arrow:hover:before {color: black;}#sk-container-id-1 div.sk-estimator:hover label.sk-toggleable__label-arrow:before {color: black;}#sk-container-id-1 div.sk-toggleable__content {max-height: 0;max-width: 0;overflow: hidden;text-align: left;background-color: #f0f8ff;}#sk-container-id-1 div.sk-toggleable__content pre {margin: 0.2em;color: black;border-radius: 0.25em;background-color: #f0f8ff;}#sk-container-id-1 input.sk-toggleable__control:checked~div.sk-toggleable__content {max-height: 200px;max-width: 100%;overflow: auto;}#sk-container-id-1 input.sk-toggleable__control:checked~label.sk-toggleable__label-arrow:before {content: \"▾\";}#sk-container-id-1 div.sk-estimator input.sk-toggleable__control:checked~label.sk-toggleable__label {background-color: #d4ebff;}#sk-container-id-1 div.sk-label input.sk-toggleable__control:checked~label.sk-toggleable__label {background-color: #d4ebff;}#sk-container-id-1 input.sk-hidden--visually {border: 0;clip: rect(1px 1px 1px 1px);clip: rect(1px, 1px, 1px, 1px);height: 1px;margin: -1px;overflow: hidden;padding: 0;position: absolute;width: 1px;}#sk-container-id-1 div.sk-estimator {font-family: monospace;background-color: #f0f8ff;border: 1px dotted black;border-radius: 0.25em;box-sizing: border-box;margin-bottom: 0.5em;}#sk-container-id-1 div.sk-estimator:hover {background-color: #d4ebff;}#sk-container-id-1 div.sk-parallel-item::after {content: \"\";width: 100%;border-bottom: 1px solid gray;flex-grow: 1;}#sk-container-id-1 div.sk-label:hover label.sk-toggleable__label {background-color: #d4ebff;}#sk-container-id-1 div.sk-serial::before {content: \"\";position: absolute;border-left: 1px solid gray;box-sizing: border-box;top: 0;bottom: 0;left: 50%;z-index: 0;}#sk-container-id-1 div.sk-serial {display: flex;flex-direction: column;align-items: center;background-color: white;padding-right: 0.2em;padding-left: 0.2em;position: relative;}#sk-container-id-1 div.sk-item {position: relative;z-index: 1;}#sk-container-id-1 div.sk-parallel {display: flex;align-items: stretch;justify-content: center;background-color: white;position: relative;}#sk-container-id-1 div.sk-item::before, #sk-container-id-1 div.sk-parallel-item::before {content: \"\";position: absolute;border-left: 1px solid gray;box-sizing: border-box;top: 0;bottom: 0;left: 50%;z-index: -1;}#sk-container-id-1 div.sk-parallel-item {display: flex;flex-direction: column;z-index: 1;position: relative;background-color: white;}#sk-container-id-1 div.sk-parallel-item:first-child::after {align-self: flex-end;width: 50%;}#sk-container-id-1 div.sk-parallel-item:last-child::after {align-self: flex-start;width: 50%;}#sk-container-id-1 div.sk-parallel-item:only-child::after {width: 0;}#sk-container-id-1 div.sk-dashed-wrapped {border: 1px dashed gray;margin: 0 0.4em 0.5em 0.4em;box-sizing: border-box;padding-bottom: 0.4em;background-color: white;}#sk-container-id-1 div.sk-label label {font-family: monospace;font-weight: bold;display: inline-block;line-height: 1.2em;}#sk-container-id-1 div.sk-label-container {text-align: center;}#sk-container-id-1 div.sk-container {/* jupyter's `normalize.less` sets `[hidden] { display: none; }` but bootstrap.min.css set `[hidden] { display: none !important; }` so we also need the `!important` here to be able to override the default hidden behavior on the sphinx rendered scikit-learn.org. See: https://github.com/scikit-learn/scikit-learn/issues/21755 */display: inline-block !important;position: relative;}#sk-container-id-1 div.sk-text-repr-fallback {display: none;}</style><div id=\"sk-container-id-1\" class=\"sk-top-container\"><div class=\"sk-text-repr-fallback\"><pre>SVC()</pre><b>In a Jupyter environment, please rerun this cell to show the HTML representation or trust the notebook. <br />On GitHub, the HTML representation is unable to render, please try loading this page with nbviewer.org.</b></div><div class=\"sk-container\" hidden><div class=\"sk-item\"><div class=\"sk-estimator sk-toggleable\"><input class=\"sk-toggleable__control sk-hidden--visually\" id=\"sk-estimator-id-1\" type=\"checkbox\" checked><label for=\"sk-estimator-id-1\" class=\"sk-toggleable__label sk-toggleable__label-arrow\">SVC</label><div class=\"sk-toggleable__content\"><pre>SVC()</pre></div></div></div></div></div>"
      ],
      "text/plain": [
       "SVC()"
      ]
     },
     "execution_count": 29,
     "metadata": {},
     "output_type": "execute_result"
    }
   ],
   "source": [
    "# SVM\n",
    "model = SVC()\n",
    "model.fit(X_train, y_train)"
   ]
  },
  {
   "cell_type": "code",
   "execution_count": 30,
   "id": "74f2bd56",
   "metadata": {},
   "outputs": [
    {
     "name": "stdout",
     "output_type": "stream",
     "text": [
      "0.4337121212121212\n",
      "0.4090909090909091\n"
     ]
    }
   ],
   "source": [
    "print(model.score(X_train, y_train))\n",
    "print(model.score(X_test, y_test))"
   ]
  },
  {
   "cell_type": "code",
   "execution_count": 31,
   "id": "fa9941b7",
   "metadata": {},
   "outputs": [
    {
     "name": "stdout",
     "output_type": "stream",
     "text": [
      "Fitting 5 folds for each of 9 candidates, totalling 45 fits\n"
     ]
    }
   ],
   "source": [
    "# defining parameter range\n",
    "params = {'C': [100, 1000, 10000], \n",
    "              'gamma': [0.01, 0.001, 0.0001],\n",
    "              'kernel': ['rbf']}\n",
    "\n",
    "clf = GridSearchCV(\n",
    "        estimator = SVC(),\n",
    "        param_grid = params,\n",
    "        cv=5,\n",
    "        n_jobs=-1,\n",
    "        verbose=1\n",
    "    )\n",
    "\n",
    "clf.fit(X_train, y_train)\n",
    "best_params = clf.best_params_"
   ]
  },
  {
   "cell_type": "code",
   "execution_count": 32,
   "id": "ec93adf2",
   "metadata": {},
   "outputs": [
    {
     "data": {
      "text/plain": [
       "{'C': 1000, 'gamma': 0.001, 'kernel': 'rbf'}"
      ]
     },
     "execution_count": 32,
     "metadata": {},
     "output_type": "execute_result"
    }
   ],
   "source": [
    "best_params"
   ]
  },
  {
   "cell_type": "code",
   "execution_count": 33,
   "id": "11130454",
   "metadata": {},
   "outputs": [
    {
     "name": "stdout",
     "output_type": "stream",
     "text": [
      "0.9081439393939394\n",
      "0.6619318181818182\n"
     ]
    }
   ],
   "source": [
    "model = SVC(**best_params)\n",
    "model.fit(X_train, y_train)\n",
    "\n",
    "print(model.score(X_train, y_train))\n",
    "print(model.score(X_test, y_test))"
   ]
  },
  {
   "cell_type": "code",
   "execution_count": 34,
   "id": "9743c8ed",
   "metadata": {},
   "outputs": [],
   "source": [
    "# train final model on full dataset\n",
    "\n",
    "final_model = SVC(**best_params)\n",
    "final_model.fit(X, y)\n",
    "\n",
    "# save trained model\n",
    "with open('../data/models/SVC.pkl','wb') as f:\n",
    "    pickle.dump(final_model,f)"
   ]
  },
  {
   "cell_type": "code",
   "execution_count": null,
   "id": "2c135697",
   "metadata": {},
   "outputs": [],
   "source": []
  },
  {
   "cell_type": "code",
   "execution_count": null,
   "id": "810b21bf-3e82-4223-a0ea-586e81f487e1",
   "metadata": {},
   "outputs": [],
   "source": []
  }
 ],
 "metadata": {
  "kernelspec": {
   "display_name": "Python 3 (ipykernel)",
   "language": "python",
   "name": "python3"
  },
  "language_info": {
   "codemirror_mode": {
    "name": "ipython",
    "version": 3
   },
   "file_extension": ".py",
   "mimetype": "text/x-python",
   "name": "python",
   "nbconvert_exporter": "python",
   "pygments_lexer": "ipython3",
   "version": "3.9.7"
  }
 },
 "nbformat": 4,
 "nbformat_minor": 5
}
