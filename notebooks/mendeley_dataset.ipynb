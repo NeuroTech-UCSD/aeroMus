{
 "cells": [
  {
   "cell_type": "code",
   "execution_count": 8,
   "id": "ad33914c",
   "metadata": {},
   "outputs": [
    {
     "name": "stdout",
     "output_type": "stream",
     "text": [
      "Packages Imported.\n"
     ]
    }
   ],
   "source": [
    "import numpy as np\n",
    "import pandas as pd\n",
    "import matplotlib.pyplot as plt\n",
    "\n",
    "print(\"Packages Imported.\")"
   ]
  },
  {
   "cell_type": "code",
   "execution_count": 4,
   "id": "b6f239f2",
   "metadata": {},
   "outputs": [],
   "source": [
    "DATA_LOC = 'E:/datasets/EMG_mendeley'"
   ]
  },
  {
   "cell_type": "code",
   "execution_count": 28,
   "id": "780364e2",
   "metadata": {},
   "outputs": [],
   "source": [
    "# dataset settings\n",
    "fs = 2000"
   ]
  },
  {
   "cell_type": "code",
   "execution_count": 5,
   "id": "718e84ea",
   "metadata": {},
   "outputs": [],
   "source": [
    "raw_df = pd.read_csv(f'{DATA_LOC}/30_raw.csv')\n",
    "filtered_df = pd.read_csv(f'{DATA_LOC}/30_filtered.csv')"
   ]
  },
  {
   "cell_type": "code",
   "execution_count": 6,
   "id": "25a5cfbd",
   "metadata": {},
   "outputs": [
    {
     "data": {
      "text/html": [
       "<div>\n",
       "<style scoped>\n",
       "    .dataframe tbody tr th:only-of-type {\n",
       "        vertical-align: middle;\n",
       "    }\n",
       "\n",
       "    .dataframe tbody tr th {\n",
       "        vertical-align: top;\n",
       "    }\n",
       "\n",
       "    .dataframe thead th {\n",
       "        text-align: right;\n",
       "    }\n",
       "</style>\n",
       "<table border=\"1\" class=\"dataframe\">\n",
       "  <thead>\n",
       "    <tr style=\"text-align: right;\">\n",
       "      <th></th>\n",
       "      <th>-2.2259521484375</th>\n",
       "      <th>0.382080078125</th>\n",
       "      <th>0.64697265625</th>\n",
       "      <th>0</th>\n",
       "    </tr>\n",
       "  </thead>\n",
       "  <tbody>\n",
       "    <tr>\n",
       "      <th>0</th>\n",
       "      <td>-2.254028</td>\n",
       "      <td>0.379639</td>\n",
       "      <td>0.649719</td>\n",
       "      <td>0.0</td>\n",
       "    </tr>\n",
       "    <tr>\n",
       "      <th>1</th>\n",
       "      <td>-2.262878</td>\n",
       "      <td>0.356140</td>\n",
       "      <td>0.652771</td>\n",
       "      <td>0.0</td>\n",
       "    </tr>\n",
       "    <tr>\n",
       "      <th>2</th>\n",
       "      <td>-2.237854</td>\n",
       "      <td>0.346375</td>\n",
       "      <td>0.650330</td>\n",
       "      <td>0.0</td>\n",
       "    </tr>\n",
       "    <tr>\n",
       "      <th>3</th>\n",
       "      <td>-2.199097</td>\n",
       "      <td>0.359802</td>\n",
       "      <td>0.649719</td>\n",
       "      <td>0.0</td>\n",
       "    </tr>\n",
       "    <tr>\n",
       "      <th>4</th>\n",
       "      <td>-2.151794</td>\n",
       "      <td>0.400696</td>\n",
       "      <td>0.653687</td>\n",
       "      <td>0.0</td>\n",
       "    </tr>\n",
       "  </tbody>\n",
       "</table>\n",
       "</div>"
      ],
      "text/plain": [
       "   -2.2259521484375  0.382080078125  0.64697265625    0\n",
       "0         -2.254028        0.379639       0.649719  0.0\n",
       "1         -2.262878        0.356140       0.652771  0.0\n",
       "2         -2.237854        0.346375       0.650330  0.0\n",
       "3         -2.199097        0.359802       0.649719  0.0\n",
       "4         -2.151794        0.400696       0.653687  0.0"
      ]
     },
     "execution_count": 6,
     "metadata": {},
     "output_type": "execute_result"
    }
   ],
   "source": [
    "raw_df.head()"
   ]
  },
  {
   "cell_type": "code",
   "execution_count": 23,
   "id": "084ba188",
   "metadata": {},
   "outputs": [
    {
     "data": {
      "text/plain": [
       "(0.0, 280000.0)"
      ]
     },
     "execution_count": 23,
     "metadata": {},
     "output_type": "execute_result"
    },
    {
     "data": {
      "image/png": "[encoded data removed]",
      "text/plain": [
       "<Figure size 432x288 with 1 Axes>"
      ]
     },
     "metadata": {
      "needs_background": "light"
     },
     "output_type": "display_data"
    }
   ],
   "source": [
    "# plot one cycle\n",
    "plt.plot(raw_df.iloc[:,3])\n",
    "plt.xlim([0,280000])"
   ]
  },
  {
   "cell_type": "code",
   "execution_count": 16,
   "id": "90efa84c",
   "metadata": {},
   "outputs": [
    {
     "data": {
      "text/plain": [
       "RangeIndex(start=0, stop=1279999, step=1)"
      ]
     },
     "execution_count": 16,
     "metadata": {},
     "output_type": "execute_result"
    }
   ],
   "source": [
    "raw_df.index"
   ]
  },
  {
   "cell_type": "code",
   "execution_count": 7,
   "id": "795177ac",
   "metadata": {},
   "outputs": [
    {
     "data": {
      "text/html": [
       "<div>\n",
       "<style scoped>\n",
       "    .dataframe tbody tr th:only-of-type {\n",
       "        vertical-align: middle;\n",
       "    }\n",
       "\n",
       "    .dataframe tbody tr th {\n",
       "        vertical-align: top;\n",
       "    }\n",
       "\n",
       "    .dataframe thead th {\n",
       "        text-align: right;\n",
       "    }\n",
       "</style>\n",
       "<table border=\"1\" class=\"dataframe\">\n",
       "  <thead>\n",
       "    <tr style=\"text-align: right;\">\n",
       "      <th></th>\n",
       "      <th>-2.22540896199999</th>\n",
       "      <th>0.381986841297503</th>\n",
       "      <th>0.646814779193855</th>\n",
       "      <th>0</th>\n",
       "    </tr>\n",
       "  </thead>\n",
       "  <tbody>\n",
       "    <tr>\n",
       "      <th>0</th>\n",
       "      <td>-2.231955</td>\n",
       "      <td>0.381160</td>\n",
       "      <td>0.647263</td>\n",
       "      <td>0.0</td>\n",
       "    </tr>\n",
       "    <tr>\n",
       "      <th>1</th>\n",
       "      <td>-2.246833</td>\n",
       "      <td>0.373415</td>\n",
       "      <td>0.649048</td>\n",
       "      <td>0.0</td>\n",
       "    </tr>\n",
       "    <tr>\n",
       "      <th>2</th>\n",
       "      <td>-2.245576</td>\n",
       "      <td>0.358697</td>\n",
       "      <td>0.649692</td>\n",
       "      <td>0.0</td>\n",
       "    </tr>\n",
       "    <tr>\n",
       "      <th>3</th>\n",
       "      <td>-2.215334</td>\n",
       "      <td>0.355457</td>\n",
       "      <td>0.647444</td>\n",
       "      <td>0.0</td>\n",
       "    </tr>\n",
       "    <tr>\n",
       "      <th>4</th>\n",
       "      <td>-2.173214</td>\n",
       "      <td>0.377518</td>\n",
       "      <td>0.646295</td>\n",
       "      <td>0.0</td>\n",
       "    </tr>\n",
       "  </tbody>\n",
       "</table>\n",
       "</div>"
      ],
      "text/plain": [
       "   -2.22540896199999  0.381986841297503  0.646814779193855    0\n",
       "0          -2.231955           0.381160           0.647263  0.0\n",
       "1          -2.246833           0.373415           0.649048  0.0\n",
       "2          -2.245576           0.358697           0.649692  0.0\n",
       "3          -2.215334           0.355457           0.647444  0.0\n",
       "4          -2.173214           0.377518           0.646295  0.0"
      ]
     },
     "execution_count": 7,
     "metadata": {},
     "output_type": "execute_result"
    }
   ],
   "source": [
    "filtered_df.head()"
   ]
  },
  {
   "cell_type": "code",
   "execution_count": 26,
   "id": "c170110b",
   "metadata": {},
   "outputs": [
    {
     "data": {
      "image/png": "[encoded data removed]",
      "text/plain": [
       "<Figure size 432x288 with 1 Axes>"
      ]
     },
     "metadata": {
      "needs_background": "light"
     },
     "output_type": "display_data"
    }
   ],
   "source": [
    "plt.plot(filtered_df.iloc[:,3])\n",
    "start = 0\n",
    "plt.xlim([start,start+208000]);"
   ]
  },
  {
   "cell_type": "code",
   "execution_count": 17,
   "id": "7512b4f7",
   "metadata": {},
   "outputs": [
    {
     "data": {
      "text/plain": [
       "RangeIndex(start=0, stop=1279999, step=1)"
      ]
     },
     "execution_count": 17,
     "metadata": {},
     "output_type": "execute_result"
    }
   ],
   "source": [
    "filtered_df.index"
   ]
  },
  {
   "cell_type": "code",
   "execution_count": 29,
   "id": "a4f7d4f8",
   "metadata": {},
   "outputs": [],
   "source": [
    "first_cycle = filtered_df[0:104*fs]"
   ]
  },
  {
   "cell_type": "code",
   "execution_count": 31,
   "id": "8d3530e3",
   "metadata": {},
   "outputs": [
    {
     "data": {
      "text/html": [
       "<div>\n",
       "<style scoped>\n",
       "    .dataframe tbody tr th:only-of-type {\n",
       "        vertical-align: middle;\n",
       "    }\n",
       "\n",
       "    .dataframe tbody tr th {\n",
       "        vertical-align: top;\n",
       "    }\n",
       "\n",
       "    .dataframe thead th {\n",
       "        text-align: right;\n",
       "    }\n",
       "</style>\n",
       "<table border=\"1\" class=\"dataframe\">\n",
       "  <thead>\n",
       "    <tr style=\"text-align: right;\">\n",
       "      <th></th>\n",
       "      <th>-2.22540896199999</th>\n",
       "      <th>0.381986841297503</th>\n",
       "      <th>0.646814779193855</th>\n",
       "      <th>0</th>\n",
       "    </tr>\n",
       "  </thead>\n",
       "  <tbody>\n",
       "    <tr>\n",
       "      <th>0</th>\n",
       "      <td>-2.231955</td>\n",
       "      <td>0.381160</td>\n",
       "      <td>0.647263</td>\n",
       "      <td>0.0</td>\n",
       "    </tr>\n",
       "    <tr>\n",
       "      <th>1</th>\n",
       "      <td>-2.246833</td>\n",
       "      <td>0.373415</td>\n",
       "      <td>0.649048</td>\n",
       "      <td>0.0</td>\n",
       "    </tr>\n",
       "    <tr>\n",
       "      <th>2</th>\n",
       "      <td>-2.245576</td>\n",
       "      <td>0.358697</td>\n",
       "      <td>0.649692</td>\n",
       "      <td>0.0</td>\n",
       "    </tr>\n",
       "    <tr>\n",
       "      <th>3</th>\n",
       "      <td>-2.215334</td>\n",
       "      <td>0.355457</td>\n",
       "      <td>0.647444</td>\n",
       "      <td>0.0</td>\n",
       "    </tr>\n",
       "    <tr>\n",
       "      <th>4</th>\n",
       "      <td>-2.173214</td>\n",
       "      <td>0.377518</td>\n",
       "      <td>0.646295</td>\n",
       "      <td>0.0</td>\n",
       "    </tr>\n",
       "  </tbody>\n",
       "</table>\n",
       "</div>"
      ],
      "text/plain": [
       "   -2.22540896199999  0.381986841297503  0.646814779193855    0\n",
       "0          -2.231955           0.381160           0.647263  0.0\n",
       "1          -2.246833           0.373415           0.649048  0.0\n",
       "2          -2.245576           0.358697           0.649692  0.0\n",
       "3          -2.215334           0.355457           0.647444  0.0\n",
       "4          -2.173214           0.377518           0.646295  0.0"
      ]
     },
     "execution_count": 31,
     "metadata": {},
     "output_type": "execute_result"
    }
   ],
   "source": [
    "first_cycle.head()"
   ]
  },
  {
   "cell_type": "code",
   "execution_count": 32,
   "id": "17ebcb2b",
   "metadata": {},
   "outputs": [
    {
     "name": "stderr",
     "output_type": "stream",
     "text": [
      "C:\\Users\\User\\AppData\\Local\\Temp\\ipykernel_10704\\2665044891.py:2: SettingWithCopyWarning: \n",
      "A value is trying to be set on a copy of a slice from a DataFrame.\n",
      "Try using .loc[row_indexer,col_indexer] = value instead\n",
      "\n",
      "See the caveats in the documentation: https://pandas.pydata.org/pandas-docs/stable/user_guide/indexing.html#returning-a-view-versus-a-copy\n",
      "  first_cycle['action'] = ['rest']*4*fs +  ['rest']*6*fs + ['rest']*4*fs + ['extension']*6*fs \\\n"
     ]
    }
   ],
   "source": [
    "# add behavior labels\n",
    "first_cycle['action'] = ['rest']*4*fs +  ['rest']*6*fs + ['rest']*4*fs + ['extension']*6*fs \\\n",
    "+ ['rest']*4*fs + ['flexion']*6*fs + ['rest']*4*fs + ['ulnar deviation']*6*fs + ['rest']*4*fs \\\n",
    "+ ['radial deviation']*6*fs + ['rest']*4*fs + ['grip']*6*fs + ['rest']*4*fs \\\n",
    "+ ['finger abduction']*6*fs + ['rest']*4*fs + ['finger adduction']*6*fs + ['rest']*4*fs \\\n",
    "+ ['supination']*6*fs + ['rest']*4*fs + ['pronation']*6*fs + ['rest']*4*fs"
   ]
  },
  {
   "cell_type": "code",
   "execution_count": 35,
   "id": "96e23086",
   "metadata": {},
   "outputs": [
    {
     "data": {
      "text/plain": [
       "array(['rest', 'extension', 'flexion', 'ulnar deviation',\n",
       "       'radial deviation', 'grip', 'finger abduction', 'finger adduction',\n",
       "       'supination', 'pronation'], dtype=object)"
      ]
     },
     "execution_count": 35,
     "metadata": {},
     "output_type": "execute_result"
    }
   ],
   "source": [
    "first_cycle['action'].unique()"
   ]
  },
  {
   "cell_type": "code",
   "execution_count": 27,
   "id": "1987c107",
   "metadata": {},
   "outputs": [],
   "source": [
    "# cycle information\n",
    "for rep=0:4 % 5 repetition, one cycle took 104 sec + 30 sec resting time, total 134 second fifth cycye only took 104 sec\n",
    "\n",
    "        if rep==0\n",
    "            rep_coeff=4; % first cycle: first REST start at fourth second and this cycle took 134 sec\n",
    "        elseif rep==1\n",
    "            rep_coeff=138; % second cycle: REST start at 138 sec= 104 sec (first cycle) + 30 sec (long rest) + 4 sec (begening rest)\n",
    "        elseif rep==2\n",
    "            rep_coeff=272; % third cycle: REST start at 272 sec= 268 sec (first two cycles) + 4 sec (begening rest)\n",
    "        elseif rep==3\n",
    "            rep_coeff=406; % fourth cycle: REST start at 406 sec= 402 sec (first three cycles) + 4 sec (begening rest)\n",
    "        elseif rep==4\n",
    "            rep_coeff=540\n",
    "        end"
   ]
  },
  {
   "cell_type": "code",
   "execution_count": null,
   "id": "99d4e876",
   "metadata": {},
   "outputs": [],
   "source": [
    "# feature extraction\n",
    "\n",
    "# use sliding window that overlaps by half and calculate features for all channels individually"
   ]
  },
  {
   "cell_type": "code",
   "execution_count": 36,
   "id": "b23a77f2",
   "metadata": {},
   "outputs": [],
   "source": [
    "# settings\n",
    "windowsize = 400\n",
    "overlap = 200"
   ]
  },
  {
   "cell_type": "code",
   "execution_count": 56,
   "id": "e299e38b",
   "metadata": {},
   "outputs": [],
   "source": [
    "i = 0\n",
    "\n",
    "output = []\n",
    "labels = []\n",
    "\n",
    "while i+windowsize <= first_cycle.shape[0]:\n",
    "    \n",
    "    row = []\n",
    "    for channel in first_cycle.columns[:-1]:\n",
    "        \n",
    "        raw_data = first_cycle[channel][i:i+windowsize]\n",
    "        \n",
    "        features = compute_features(raw_data)\n",
    "        \n",
    "        row.extend(features)\n",
    "        \n",
    "    if first_cycle['action'][i:i+windowsize].nunique() > 1:\n",
    "        labels.append('Mixed')\n",
    "    else:\n",
    "        labels.append(first_cycle['action'][i:i+windowsize].iloc[0])\n",
    "        \n",
    "    i += (windowsize - overlap)\n",
    "    output.append(row)"
   ]
  },
  {
   "cell_type": "code",
   "execution_count": 57,
   "id": "07876126",
   "metadata": {},
   "outputs": [
    {
     "data": {
      "text/html": [
       "<div>\n",
       "<style scoped>\n",
       "    .dataframe tbody tr th:only-of-type {\n",
       "        vertical-align: middle;\n",
       "    }\n",
       "\n",
       "    .dataframe tbody tr th {\n",
       "        vertical-align: top;\n",
       "    }\n",
       "\n",
       "    .dataframe thead th {\n",
       "        text-align: right;\n",
       "    }\n",
       "</style>\n",
       "<table border=\"1\" class=\"dataframe\">\n",
       "  <thead>\n",
       "    <tr style=\"text-align: right;\">\n",
       "      <th></th>\n",
       "      <th>0</th>\n",
       "      <th>1</th>\n",
       "      <th>2</th>\n",
       "      <th>3</th>\n",
       "      <th>4</th>\n",
       "      <th>5</th>\n",
       "      <th>6</th>\n",
       "      <th>7</th>\n",
       "      <th>8</th>\n",
       "      <th>9</th>\n",
       "      <th>10</th>\n",
       "      <th>11</th>\n",
       "      <th>action</th>\n",
       "    </tr>\n",
       "  </thead>\n",
       "  <tbody>\n",
       "    <tr>\n",
       "      <th>0</th>\n",
       "      <td>212.075169</td>\n",
       "      <td>0.593293</td>\n",
       "      <td>346.528945</td>\n",
       "      <td>36.124706</td>\n",
       "      <td>0.122877</td>\n",
       "      <td>11.599006</td>\n",
       "      <td>61.177240</td>\n",
       "      <td>0.172782</td>\n",
       "      <td>30.315921</td>\n",
       "      <td>0.013717</td>\n",
       "      <td>0.001145</td>\n",
       "      <td>0.000838</td>\n",
       "      <td>rest</td>\n",
       "    </tr>\n",
       "    <tr>\n",
       "      <th>1</th>\n",
       "      <td>11.794478</td>\n",
       "      <td>0.063461</td>\n",
       "      <td>2.528314</td>\n",
       "      <td>2.719285</td>\n",
       "      <td>0.045403</td>\n",
       "      <td>1.255142</td>\n",
       "      <td>3.902250</td>\n",
       "      <td>0.015021</td>\n",
       "      <td>0.143929</td>\n",
       "      <td>0.013155</td>\n",
       "      <td>0.001617</td>\n",
       "      <td>0.002614</td>\n",
       "      <td>rest</td>\n",
       "    </tr>\n",
       "    <tr>\n",
       "      <th>2</th>\n",
       "      <td>2.227738</td>\n",
       "      <td>0.051320</td>\n",
       "      <td>1.600703</td>\n",
       "      <td>0.339971</td>\n",
       "      <td>0.037737</td>\n",
       "      <td>0.938824</td>\n",
       "      <td>0.183801</td>\n",
       "      <td>0.009694</td>\n",
       "      <td>0.058695</td>\n",
       "      <td>0.005436</td>\n",
       "      <td>0.001781</td>\n",
       "      <td>0.002914</td>\n",
       "      <td>rest</td>\n",
       "    </tr>\n",
       "    <tr>\n",
       "      <th>3</th>\n",
       "      <td>0.101605</td>\n",
       "      <td>0.044636</td>\n",
       "      <td>1.292511</td>\n",
       "      <td>0.145738</td>\n",
       "      <td>0.034116</td>\n",
       "      <td>0.805045</td>\n",
       "      <td>0.180198</td>\n",
       "      <td>0.009438</td>\n",
       "      <td>0.055573</td>\n",
       "      <td>0.001267</td>\n",
       "      <td>0.002017</td>\n",
       "      <td>0.004291</td>\n",
       "      <td>rest</td>\n",
       "    </tr>\n",
       "    <tr>\n",
       "      <th>4</th>\n",
       "      <td>0.643224</td>\n",
       "      <td>0.033359</td>\n",
       "      <td>0.788752</td>\n",
       "      <td>0.210326</td>\n",
       "      <td>0.037048</td>\n",
       "      <td>0.946680</td>\n",
       "      <td>0.063740</td>\n",
       "      <td>0.009144</td>\n",
       "      <td>0.051895</td>\n",
       "      <td>0.024736</td>\n",
       "      <td>0.002366</td>\n",
       "      <td>0.005972</td>\n",
       "      <td>rest</td>\n",
       "    </tr>\n",
       "    <tr>\n",
       "      <th>...</th>\n",
       "      <td>...</td>\n",
       "      <td>...</td>\n",
       "      <td>...</td>\n",
       "      <td>...</td>\n",
       "      <td>...</td>\n",
       "      <td>...</td>\n",
       "      <td>...</td>\n",
       "      <td>...</td>\n",
       "      <td>...</td>\n",
       "      <td>...</td>\n",
       "      <td>...</td>\n",
       "      <td>...</td>\n",
       "      <td>...</td>\n",
       "    </tr>\n",
       "    <tr>\n",
       "      <th>1034</th>\n",
       "      <td>0.352779</td>\n",
       "      <td>0.036837</td>\n",
       "      <td>0.962085</td>\n",
       "      <td>0.629673</td>\n",
       "      <td>0.028314</td>\n",
       "      <td>0.498961</td>\n",
       "      <td>0.072367</td>\n",
       "      <td>0.012398</td>\n",
       "      <td>0.100407</td>\n",
       "      <td>0.020242</td>\n",
       "      <td>0.001254</td>\n",
       "      <td>0.000958</td>\n",
       "      <td>rest</td>\n",
       "    </tr>\n",
       "    <tr>\n",
       "      <th>1035</th>\n",
       "      <td>0.586116</td>\n",
       "      <td>0.037912</td>\n",
       "      <td>1.030304</td>\n",
       "      <td>0.294075</td>\n",
       "      <td>0.030959</td>\n",
       "      <td>0.600123</td>\n",
       "      <td>0.004965</td>\n",
       "      <td>0.013597</td>\n",
       "      <td>0.113518</td>\n",
       "      <td>0.019243</td>\n",
       "      <td>0.001202</td>\n",
       "      <td>0.000921</td>\n",
       "      <td>rest</td>\n",
       "    </tr>\n",
       "    <tr>\n",
       "      <th>1036</th>\n",
       "      <td>0.634657</td>\n",
       "      <td>0.036825</td>\n",
       "      <td>1.025323</td>\n",
       "      <td>0.681938</td>\n",
       "      <td>0.032918</td>\n",
       "      <td>0.654766</td>\n",
       "      <td>0.203291</td>\n",
       "      <td>0.012609</td>\n",
       "      <td>0.097892</td>\n",
       "      <td>0.003559</td>\n",
       "      <td>0.001206</td>\n",
       "      <td>0.000934</td>\n",
       "      <td>rest</td>\n",
       "    </tr>\n",
       "    <tr>\n",
       "      <th>1037</th>\n",
       "      <td>0.949688</td>\n",
       "      <td>0.036035</td>\n",
       "      <td>0.890316</td>\n",
       "      <td>0.260196</td>\n",
       "      <td>0.032066</td>\n",
       "      <td>0.673711</td>\n",
       "      <td>0.451274</td>\n",
       "      <td>0.012173</td>\n",
       "      <td>0.088218</td>\n",
       "      <td>0.017881</td>\n",
       "      <td>0.001275</td>\n",
       "      <td>0.001033</td>\n",
       "      <td>rest</td>\n",
       "    </tr>\n",
       "    <tr>\n",
       "      <th>1038</th>\n",
       "      <td>0.256485</td>\n",
       "      <td>0.039988</td>\n",
       "      <td>1.106452</td>\n",
       "      <td>0.450040</td>\n",
       "      <td>0.033858</td>\n",
       "      <td>0.752981</td>\n",
       "      <td>0.112687</td>\n",
       "      <td>0.012082</td>\n",
       "      <td>0.087190</td>\n",
       "      <td>0.025545</td>\n",
       "      <td>0.001240</td>\n",
       "      <td>0.000956</td>\n",
       "      <td>rest</td>\n",
       "    </tr>\n",
       "  </tbody>\n",
       "</table>\n",
       "<p>1039 rows × 13 columns</p>\n",
       "</div>"
      ],
      "text/plain": [
       "               0         1           2          3         4          5  \\\n",
       "0     212.075169  0.593293  346.528945  36.124706  0.122877  11.599006   \n",
       "1      11.794478  0.063461    2.528314   2.719285  0.045403   1.255142   \n",
       "2       2.227738  0.051320    1.600703   0.339971  0.037737   0.938824   \n",
       "3       0.101605  0.044636    1.292511   0.145738  0.034116   0.805045   \n",
       "4       0.643224  0.033359    0.788752   0.210326  0.037048   0.946680   \n",
       "...          ...       ...         ...        ...       ...        ...   \n",
       "1034    0.352779  0.036837    0.962085   0.629673  0.028314   0.498961   \n",
       "1035    0.586116  0.037912    1.030304   0.294075  0.030959   0.600123   \n",
       "1036    0.634657  0.036825    1.025323   0.681938  0.032918   0.654766   \n",
       "1037    0.949688  0.036035    0.890316   0.260196  0.032066   0.673711   \n",
       "1038    0.256485  0.039988    1.106452   0.450040  0.033858   0.752981   \n",
       "\n",
       "              6         7          8         9        10        11 action  \n",
       "0     61.177240  0.172782  30.315921  0.013717  0.001145  0.000838   rest  \n",
       "1      3.902250  0.015021   0.143929  0.013155  0.001617  0.002614   rest  \n",
       "2      0.183801  0.009694   0.058695  0.005436  0.001781  0.002914   rest  \n",
       "3      0.180198  0.009438   0.055573  0.001267  0.002017  0.004291   rest  \n",
       "4      0.063740  0.009144   0.051895  0.024736  0.002366  0.005972   rest  \n",
       "...         ...       ...        ...       ...       ...       ...    ...  \n",
       "1034   0.072367  0.012398   0.100407  0.020242  0.001254  0.000958   rest  \n",
       "1035   0.004965  0.013597   0.113518  0.019243  0.001202  0.000921   rest  \n",
       "1036   0.203291  0.012609   0.097892  0.003559  0.001206  0.000934   rest  \n",
       "1037   0.451274  0.012173   0.088218  0.017881  0.001275  0.001033   rest  \n",
       "1038   0.112687  0.012082   0.087190  0.025545  0.001240  0.000956   rest  \n",
       "\n",
       "[1039 rows x 13 columns]"
      ]
     },
     "execution_count": 57,
     "metadata": {},
     "output_type": "execute_result"
    }
   ],
   "source": [
    "feature_df = pd.DataFrame(output)\n",
    "feature_df['action'] = labels\n",
    "feature_df"
   ]
  },
  {
   "cell_type": "code",
   "execution_count": 58,
   "id": "71a24881",
   "metadata": {},
   "outputs": [
    {
     "data": {
      "text/plain": [
       "array(['rest', 'Mixed', 'extension', 'flexion', 'ulnar deviation',\n",
       "       'radial deviation', 'grip', 'finger abduction', 'finger adduction',\n",
       "       'supination', 'pronation'], dtype=object)"
      ]
     },
     "execution_count": 58,
     "metadata": {},
     "output_type": "execute_result"
    }
   ],
   "source": [
    "feature_df['action'].unique()"
   ]
  },
  {
   "cell_type": "code",
   "execution_count": 37,
   "id": "38ccfaf8",
   "metadata": {},
   "outputs": [],
   "source": [
    "def compute_features(data):\n",
    "    # integrated EMG, Mean Absolute Value, Root Mean Square\n",
    "    return [np.abs(np.sum(data)), np.mean(np.abs(data)), np.sum(data**2)]\n",
    "    "
   ]
  },
  {
   "cell_type": "code",
   "execution_count": 59,
   "id": "221405cd",
   "metadata": {},
   "outputs": [],
   "source": [
    "# Machine Learning!"
   ]
  },
  {
   "cell_type": "code",
   "execution_count": 60,
   "id": "36a9df32",
   "metadata": {},
   "outputs": [],
   "source": [
    "# imports\n",
    "from sklearn.model_selection import train_test_split\n",
    "from sklearn.tree import DecisionTreeClassifier\n",
    "from sklearn.metrics import accuracy_score\n",
    "from sklearn.model_selection import GridSearchCV"
   ]
  },
  {
   "cell_type": "code",
   "execution_count": 65,
   "id": "3b45ff57",
   "metadata": {},
   "outputs": [],
   "source": [
    "# function to fit the model and calculate score\n",
    "\n",
    "def model_fit_pred(model, X, y, params=None):\n",
    "    X_train, X_test, y_train, y_test = train_test_split(X, y, random_state=100)\n",
    "    \n",
    "    if params is not None:\n",
    "        m = model(**params)\n",
    "    else:\n",
    "        m = model()\n",
    "    m.fit(X_train, y_train)\n",
    "    \n",
    "    preds = m.predict(X_test)\n",
    "    \n",
    "    return accuracy_score(y_test, preds)\n",
    "\n",
    "# function to get the best parameters for the model\n",
    "def get_best_params(model, X, y, params):\n",
    "    \n",
    "    clf = GridSearchCV(\n",
    "        estimator = model(),\n",
    "        param_grid = params,\n",
    "        cv=5,\n",
    "        n_jobs=5,\n",
    "        verbose=1\n",
    "    )\n",
    "\n",
    "    clf.fit(X, y)\n",
    "    best_params = clf.best_params_\n",
    "    \n",
    "    return best_params\n",
    "\n",
    "# function to take in a model name and output scores\n",
    "def model_test(model, X, y, params=None):\n",
    "\n",
    "    score = model_fit_pred(model, X, y)\n",
    "    print(f'{model}\\n' + '-'*50 + '\\n')\n",
    "    print(f'Raw Score: {score}\\n')\n",
    "\n",
    "    if params is not None:\n",
    "        best_params = get_best_params(model, X, y, params=params)\n",
    "        best_params_score = model_fit_pred(model, X, y, \n",
    "                                           params=best_params)\n",
    "        print(f'Best Params: {best_params}')\n",
    "        print(f'Best Params Score: {best_params_score}')"
   ]
  },
  {
   "cell_type": "code",
   "execution_count": 63,
   "id": "d9548eb0",
   "metadata": {},
   "outputs": [],
   "source": [
    "X = feature_df.copy()\n",
    "y = X.pop('action')"
   ]
  },
  {
   "cell_type": "code",
   "execution_count": 66,
   "id": "9301f8e4",
   "metadata": {},
   "outputs": [
    {
     "name": "stdout",
     "output_type": "stream",
     "text": [
      "<class 'sklearn.tree._classes.DecisionTreeClassifier'>\n",
      "--------------------------------------------------\n",
      "\n",
      "Raw Score: 0.7115384615384616\n",
      "\n",
      "Fitting 5 folds for each of 168 candidates, totalling 840 fits\n",
      "Best Params: {'criterion': 'entropy', 'max_depth': 8, 'max_features': 0.8, 'splitter': 'random'}\n",
      "Best Params Score: 0.7307692307692307\n"
     ]
    }
   ],
   "source": [
    "# Decision Tree\n",
    "\n",
    "params = {\n",
    "    'criterion':  ['gini', 'entropy'],\n",
    "    'max_depth':  [None, 2, 4, 6, 8, 10],\n",
    "    'max_features': [None, 'sqrt', 'log2', 0.2, 0.4, 0.6, 0.8],\n",
    "    'splitter': ['best', 'random']\n",
    "}\n",
    "\n",
    "model_test(DecisionTreeClassifier, X, y, params=params)"
   ]
  },
  {
   "cell_type": "code",
   "execution_count": 67,
   "id": "f13d634c",
   "metadata": {},
   "outputs": [
    {
     "name": "stdout",
     "output_type": "stream",
     "text": [
      "<class 'sklearn.neighbors._classification.KNeighborsClassifier'>\n",
      "--------------------------------------------------\n",
      "\n",
      "Raw Score: 0.6961538461538461\n",
      "\n",
      "Fitting 5 folds for each of 128 candidates, totalling 640 fits\n",
      "Best Params: {'algorithm': 'auto', 'leaf_size': 30, 'n_neighbors': 7, 'weights': 'distance'}\n",
      "Best Params Score: 0.7038461538461539\n"
     ]
    }
   ],
   "source": [
    "# KNN\n",
    "from sklearn.neighbors import KNeighborsClassifier\n",
    "\n",
    "params = {\n",
    "    'n_neighbors': [5, 3, 7, 2],\n",
    "    'weights': ['uniform','distance'],\n",
    "    'algorithm': ['auto', 'ball_tree', 'kd_tree', 'brute'],\n",
    "    'leaf_size': [30, 20, 50, 70]\n",
    "}\n",
    "\n",
    "model_test(KNeighborsClassifier, X, y, params=params)"
   ]
  },
  {
   "cell_type": "code",
   "execution_count": null,
   "id": "386373ab",
   "metadata": {},
   "outputs": [],
   "source": [
    "# try with more data and features"
   ]
  },
  {
   "cell_type": "code",
   "execution_count": null,
   "id": "e5d14d25",
   "metadata": {},
   "outputs": [],
   "source": [
    "# cubic svm, lda"
   ]
  }
 ],
 "metadata": {
  "kernelspec": {
   "display_name": "Python 3 (ipykernel)",
   "language": "python",
   "name": "python3"
  },
  "language_info": {
   "codemirror_mode": {
    "name": "ipython",
    "version": 3
   },
   "file_extension": ".py",
   "mimetype": "text/x-python",
   "name": "python",
   "nbconvert_exporter": "python",
   "pygments_lexer": "ipython3",
   "version": "3.9.12"
  }
 },
 "nbformat": 4,
 "nbformat_minor": 5
}
