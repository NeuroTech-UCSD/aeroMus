{
 "cells": [
  {
   "cell_type": "code",
   "execution_count": null,
   "id": "58af3f41",
   "metadata": {},
   "outputs": [],
   "source": [
    "import serial\n",
    "import time\n",
    "from pylsl import StreamInfo, StreamOutlet, local_clock\n",
    "import numpy as np\n",
    "\n",
    "# open a serial connection\n",
    "s = serial.Serial(\"COM7\", 9600) #com7 refers to the port the board is connected to on pc. will need to change. \n",
    "#9600 refers to the acceptance rate. must match bps from serial output. \n",
    "\n",
    "print(s)\n"
   ]
  },
  {
   "cell_type": "code",
   "execution_count": null,
   "id": "bae62afa",
   "metadata": {},
   "outputs": [],
   "source": [
    "# LSL initialization\n",
    "def channel_select(board, board_id, data_type): \n",
    "    switcher = {\n",
    "        'EXG': board.get_exg_channels(board_id),\n",
    "        # can add more\n",
    "    }\n",
    " \n",
    "    return switcher.get(data_type, \"error\")\n",
    "\n",
    "info = StreamInfo('OpenBCIEEG1', 'EXG', n_channels, srate, 'double64', 'OpenBCItestEEG1')\n",
    "chans = channel_select(board, board.board_id, 'EXG')\n",
    "outlet = StreamOutlet(info)"
   ]
  },
  {
   "cell_type": "code",
   "execution_count": null,
   "id": "54c72473",
   "metadata": {},
   "outputs": [],
   "source": [
    "while True:\n",
    "    outlet.push_chunk(s)"
   ]
  }
 ],
 "metadata": {
  "kernelspec": {
   "display_name": "Python 3 (ipykernel)",
   "language": "python",
   "name": "python3"
  },
  "language_info": {
   "codemirror_mode": {
    "name": "ipython",
    "version": 3
   },
   "file_extension": ".py",
   "mimetype": "text/x-python",
   "name": "python",
   "nbconvert_exporter": "python",
   "pygments_lexer": "ipython3",
   "version": "3.9.13"
  }
 },
 "nbformat": 4,
 "nbformat_minor": 5
}
