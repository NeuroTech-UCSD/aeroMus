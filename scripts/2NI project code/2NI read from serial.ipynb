{
 "cells": [
  {
   "cell_type": "code",
   "execution_count": 1,
   "id": "58af3f41",
   "metadata": {},
   "outputs": [
    {
     "name": "stdout",
     "output_type": "stream",
     "text": [
      "Serial<id=0x181a42ccf40, open=True>(port='COM3', baudrate=9600, bytesize=8, parity='N', stopbits=1, timeout=None, xonxoff=False, rtscts=False, dsrdtr=False)\n"
     ]
    }
   ],
   "source": [
    "import serial\n",
    "import time\n",
    "from pylsl import StreamInfo, StreamOutlet, local_clock\n",
    "import numpy as np\n",
    "\n",
    "# open a serial connection\n",
    "ser = serial.Serial(\"COM3\", 9600)  #com3 refers to the port the board is connected to my pc. will need to change. \n",
    "#9600 refers to the acceptance rate. must match bps from serial output. \n",
    "print(ser)\n"
   ]
  },
  {
   "cell_type": "code",
   "execution_count": 2,
   "id": "bae62afa",
   "metadata": {},
   "outputs": [],
   "source": [
    "n_channels = 2 #number of channels\n",
    "srate = 500 #sample rate -- 1/delay from arduino code\n",
    "# LSL initialization\n",
    "info = StreamInfo('2NIpico', 'EMG', n_channels, srate, 'double64', '2NIpicotest')\n",
    "outlet = StreamOutlet(info)"
   ]
  },
  {
   "cell_type": "code",
   "execution_count": null,
   "id": "54c72473",
   "metadata": {},
   "outputs": [],
   "source": [
    "while True:\n",
    "    s = ser.read(10000) \n",
    "    outlet.push_chunk(s) #push_chunk or push_sample, push_chunk is more robust but use sample if it doesn't work"
   ]
  }
 ],
 "metadata": {
  "kernelspec": {
   "display_name": "Python 3 (ipykernel)",
   "language": "python",
   "name": "python3"
  },
  "language_info": {
   "codemirror_mode": {
    "name": "ipython",
    "version": 3
   },
   "file_extension": ".py",
   "mimetype": "text/x-python",
   "name": "python",
   "nbconvert_exporter": "python",
   "pygments_lexer": "ipython3",
   "version": "3.9.13"
  }
 },
 "nbformat": 4,
 "nbformat_minor": 5
}
